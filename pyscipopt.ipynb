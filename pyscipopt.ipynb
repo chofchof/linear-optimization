{
 "cells": [
  {
   "cell_type": "markdown",
   "metadata": {},
   "source": [
    "# PySCIPOpt\n",
    "\n",
    "https://github.com/scipopt/PySCIPOpt\n",
    "\n",
    "This project provides an interface from Python to the [SCIP Optimization Suite](https://www.scipopt.org). Starting from v8.0.3, SCIP uses the [Apache2.0 license](https://www.apache.org/licenses/LICENSE-2.0).\n",
    "\n",
    "    conda install -c conda-forge pyscipopt"
   ]
  },
  {
   "cell_type": "markdown",
   "metadata": {},
   "source": [
    "## Linear Programming\n",
    "\n",
    "As a simple example we solve the LP\n",
    "$$\n",
    "\\begin{align*}\n",
    "\\text{minimize} &\\quad -4x_1 -5x_2 \\\\\n",
    "\\text{subject to} &\\quad 2x_1 + x_2 \\leq 3 \\\\\n",
    "&\\quad x_1 + 2x_2 \\leq 3 \\\\\n",
    "&\\quad x_1,x_2 \\geq 0.\n",
    "\\end{align*}\n",
    "$$"
   ]
  },
  {
   "cell_type": "code",
   "execution_count": 12,
   "metadata": {},
   "outputs": [],
   "source": [
    "from pyscipopt import Model, SCIP_PARAMSETTING\n",
    "\n",
    "# Initialize model\n",
    "model = Model()\n",
    "# Turn off presolve and heuristics\n",
    "model.setPresolve(SCIP_PARAMSETTING.OFF)\n",
    "model.setHeuristics(SCIP_PARAMSETTING.OFF)"
   ]
  },
  {
   "cell_type": "code",
   "execution_count": 13,
   "metadata": {},
   "outputs": [
    {
     "name": "stdout",
     "output_type": "stream",
     "text": [
      "presolving:\n",
      "   (0.0s) symmetry computation started: requiring (bin +, int +, cont +), (fixed: bin -, int -, cont -)\n",
      "   (0.0s) no symmetry present (symcode time: 0.00)\n",
      "presolving (0 rounds: 0 fast, 0 medium, 0 exhaustive):\n",
      " 0 deleted vars, 0 deleted constraints, 0 added constraints, 0 tightened bounds, 0 added holes, 0 changed sides, 0 changed coefficients\n",
      " 0 implications, 0 cliques\n",
      "presolved problem has 2 variables (0 bin, 0 int, 0 impl, 2 cont) and 4 constraints\n",
      "      4 constraints of type <linear>\n",
      "Presolving Time: 0.00\n",
      "\n",
      " time | node  | left  |LP iter|LP it/n|mem/heur|mdpt |vars |cons |rows |cuts |sepa|confs|strbr|  dualbound   | primalbound  |  gap   | compl. \n",
      "* 0.0s|     1 |     0 |     2 |     - |    LP  |   0 |   2 |   2 |   2 |   0 |  0 |   0 |   0 |-9.000000e+00 |-9.000000e+00 |   0.00%| unknown\n",
      "  0.0s|     1 |     0 |     2 |     - |   581k |   0 |   2 |   2 |   2 |   0 |  0 |   0 |   0 |-9.000000e+00 |-9.000000e+00 |   0.00%| unknown\n",
      "\n",
      "SCIP Status        : problem is solved [optimal solution found]\n",
      "Solving Time (sec) : 0.00\n",
      "Solving Nodes      : 1\n",
      "Primal Bound       : -9.00000000000000e+00 (1 solutions)\n",
      "Dual Bound         : -9.00000000000000e+00\n",
      "Gap                : 0.00 %\n"
     ]
    }
   ],
   "source": [
    "# Create variables\n",
    "x = {}\n",
    "x[1] = model.addVar(\"x1\") # vtype: 'C' continuous (default), 'I' integer, 'B' binary, and 'M' implicit integer\n",
    "x[2] = model.addVar(\"x2\")\n",
    "\n",
    "# Create constraints\n",
    "c = {}\n",
    "c[1] = model.addCons(2*x[1] + x[2] <= 3)\n",
    "c[2] = model.addCons(x[1] + 2*x[2] <= 3)\n",
    "c[3] = model.addCons(x[1] >= 0)\n",
    "c[4] = model.addCons(x[2] >= 0)\n",
    "\n",
    "# Objective\n",
    "model.setObjective(-4*x[1] -5*x[2]) # sense: \"minimize\" (default), \"maximize\"\n",
    "\n",
    "model.optimize()"
   ]
  },
  {
   "cell_type": "code",
   "execution_count": 24,
   "metadata": {},
   "outputs": [
    {
     "data": {
      "text/plain": [
       "'optimal'"
      ]
     },
     "execution_count": 24,
     "metadata": {},
     "output_type": "execute_result"
    }
   ],
   "source": [
    "# Retrieve solution status.\n",
    "model.getStatus()"
   ]
  },
  {
   "cell_type": "code",
   "execution_count": 26,
   "metadata": {},
   "outputs": [
    {
     "data": {
      "text/plain": [
       "-9.0"
      ]
     },
     "execution_count": 26,
     "metadata": {},
     "output_type": "execute_result"
    }
   ],
   "source": [
    "# Retrieve the objective value of value of best solution.\n",
    "model.getObjVal()"
   ]
  },
  {
   "cell_type": "code",
   "execution_count": 23,
   "metadata": {},
   "outputs": [
    {
     "data": {
      "text/plain": [
       "{'x1': 1.0, 'x2': 1.0}"
      ]
     },
     "execution_count": 23,
     "metadata": {},
     "output_type": "execute_result"
    }
   ],
   "source": [
    "# Retrieve currently best known feasible primal solution.\n",
    "sol = model.getBestSol()\n",
    "sol"
   ]
  },
  {
   "cell_type": "code",
   "execution_count": 25,
   "metadata": {},
   "outputs": [
    {
     "data": {
      "text/plain": [
       "0.0"
      ]
     },
     "execution_count": 25,
     "metadata": {},
     "output_type": "execute_result"
    }
   ],
   "source": [
    "# Retrieve the gap, i.e. |(primalbound - dualbound)/min(|primalbound|,|dualbound|)|.\n",
    "model.getGap()"
   ]
  },
  {
   "cell_type": "code",
   "execution_count": null,
   "metadata": {},
   "outputs": [],
   "source": []
  }
 ],
 "metadata": {
  "kernelspec": {
   "display_name": "devel",
   "language": "python",
   "name": "python3"
  },
  "language_info": {
   "codemirror_mode": {
    "name": "ipython",
    "version": 3
   },
   "file_extension": ".py",
   "mimetype": "text/x-python",
   "name": "python",
   "nbconvert_exporter": "python",
   "pygments_lexer": "ipython3",
   "version": "3.11.8"
  }
 },
 "nbformat": 4,
 "nbformat_minor": 2
}
