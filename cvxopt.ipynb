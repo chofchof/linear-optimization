{
 "cells": [
  {
   "cell_type": "markdown",
   "metadata": {},
   "source": [
    "# CVXOPT\n",
    "\n",
    "https://cvxopt.org\n",
    "\n",
    "CVXOPT is a free software package for convex optimization based on the Python programming language. It can be used with the interactive Python interpreter, on the command line by executing Python scripts, or integrated in other software via Python extension modules. Its main purpose is to make the development of software for convex optimization applications straightforward by building on Python’s extensive standard library and on the strengths of Python as a high-level programming language.\n",
    "\n",
    "    conda install -c conda-forge cvxopt"
   ]
  },
  {
   "cell_type": "markdown",
   "metadata": {},
   "source": [
    "## Linear Programming\n",
    "\n",
    "The function `lp` is an interface to `conelp` for linear programs. It also provides the option of using the linear programming solvers from GLPK or MOSEK.\n",
    "\n",
    "    cvxopt.solvers.lp(c, G, h[, A, b[, solver[, primalstart[, dualstart]]]])\n",
    "\n",
    "Solves the pair of primal\n",
    "\\begin{align*}\n",
    "\\text{minimize} &\\quad \\mathbf{c}^T\\mathbf{x} \\\\\n",
    "\\text{subject to} &\\quad \\mathbf{G}\\mathbf{x}\\leq\\mathbf{h} \\\\\n",
    "&\\quad \\mathbf{Ax}=\\mathbf{b}.\n",
    "\\end{align*}\n",
    "\n",
    "As a simple example we solve the LP\n",
    "$$\n",
    "\\begin{align*}\n",
    "\\text{minimize} &\\quad -4x_1 -5x_2 \\\\\n",
    "\\text{subject to} &\\quad 2x_1 + x_2 \\leq 3 \\\\\n",
    "&\\quad x_1 + 2x_2 \\leq 3 \\\\\n",
    "&\\quad x_1,x_2 \\geq 0.\n",
    "\\end{align*}\n",
    "$$"
   ]
  },
  {
   "cell_type": "code",
   "execution_count": 1,
   "metadata": {},
   "outputs": [],
   "source": [
    "from cvxopt import matrix, solvers\n",
    "\n",
    "c = matrix([-4., -5.])\n",
    "G = matrix([[2., 1., -1., 0.], [1., 2., 0., -1.]]) # G is a 4 x 2 matrix\n",
    "h = matrix([3., 3., 0., 0.])"
   ]
  },
  {
   "cell_type": "markdown",
   "metadata": {},
   "source": [
    "The `solver` argument is used to choose among <u>three solvers</u>. When it is omitted or `None`, the CVXOPT function `conelp` is used. The external solvers GLPK and MOSEK (if installed using `conda install -c mosek mosek` and have a **license**) can be selected by setting solver to 'glpk' or 'mosek'.\n",
    "\n",
    "The initial values are ignored when `solver` is 'glpk' or 'mosek'. With the GLPK option, the solver does not return certificates of primal or dual infeasibility: if the status is 'primal infeasible' or 'dual infeasible', all entries of the output dictionary are `None`. If the GLPK or MOSEK solvers are used, and the code returns with status 'unknown', all the other fields in the output dictionary are `None`."
   ]
  },
  {
   "cell_type": "code",
   "execution_count": 2,
   "metadata": {},
   "outputs": [
    {
     "name": "stdout",
     "output_type": "stream",
     "text": [
      "     pcost       dcost       gap    pres   dres   k/t\n",
      " 0: -8.1000e+00 -1.8300e+01  4e+00  0e+00  8e-01  1e+00\n",
      " 1: -8.8055e+00 -9.4357e+00  2e-01  2e-16  4e-02  3e-02\n",
      " 2: -8.9981e+00 -9.0049e+00  2e-03  3e-16  5e-04  4e-04\n",
      " 3: -9.0000e+00 -9.0000e+00  2e-05  5e-17  5e-06  4e-06\n",
      " 4: -9.0000e+00 -9.0000e+00  2e-07  1e-16  5e-08  4e-08\n",
      "Optimal solution found.\n"
     ]
    },
    {
     "data": {
      "text/plain": [
       "{'x': <2x1 matrix, tc='d'>,\n",
       " 'y': <0x1 matrix, tc='d'>,\n",
       " 's': <4x1 matrix, tc='d'>,\n",
       " 'z': <4x1 matrix, tc='d'>,\n",
       " 'status': 'optimal',\n",
       " 'gap': 2.4531765274726844e-07,\n",
       " 'relative gap': 2.7257517543094785e-08,\n",
       " 'primal objective': -8.99999981140672,\n",
       " 'dual objective': -9.000000492484837,\n",
       " 'primal infeasibility': 1.4334843432507833e-16,\n",
       " 'dual infeasibility': 4.812169424243615e-08,\n",
       " 'primal slack': 3.9297227909537905e-08,\n",
       " 'dual slack': 2.7986120477658133e-08,\n",
       " 'residual as primal infeasibility certificate': None,\n",
       " 'residual as dual infeasibility certificate': None,\n",
       " 'iterations': 4}"
      ]
     },
     "execution_count": 2,
     "metadata": {},
     "output_type": "execute_result"
    }
   ],
   "source": [
    "sol = solvers.lp(c, G, h)\n",
    "sol"
   ]
  },
  {
   "cell_type": "markdown",
   "metadata": {},
   "source": [
    "The equivalent primal linear program using the slack variables is\n",
    "\\begin{align*}\n",
    "\\text{minimize} &\\quad \\mathbf{c}^T\\mathbf{x} \\\\\n",
    "\\text{subject to} &\\quad \\mathbf{G}\\mathbf{x}+\\mathbf{s}=\\mathbf{h} \\\\\n",
    "&\\quad \\mathbf{Ax}=\\mathbf{b} \\\\\n",
    "&\\quad \\mathbf{s}\\geq\\mathbf{0}.\n",
    "\\end{align*}"
   ]
  },
  {
   "cell_type": "code",
   "execution_count": 3,
   "metadata": {},
   "outputs": [
    {
     "name": "stdout",
     "output_type": "stream",
     "text": [
      "[ 1.00e+00]\n",
      "[ 1.00e+00]\n",
      "\n",
      "[ 1.10e-07]\n",
      "[ 3.93e-08]\n",
      "[ 1.00e+00]\n",
      "[ 1.00e+00]\n",
      "\n"
     ]
    }
   ],
   "source": [
    "print(sol[\"x\"])\n",
    "print(sol[\"s\"])"
   ]
  },
  {
   "cell_type": "markdown",
   "metadata": {},
   "source": [
    "The corresponding dual linear program is\n",
    "\\begin{align*}\n",
    "\\text{maximize} &\\quad -\\mathbf{h}^T\\mathbf{z}-\\mathbf{b}^T\\mathbf{y} \\\\\n",
    "\\text{subject to} &\\quad \\mathbf{G}^T\\mathbf{z}+\\mathbf{A}^T\\mathbf{y}+\\mathbf{c}=\\mathbf{0} \\\\\n",
    "&\\quad \\mathbf{z}\\geq\\mathbf{0}.\n",
    "\\end{align*}"
   ]
  },
  {
   "cell_type": "code",
   "execution_count": 4,
   "metadata": {},
   "outputs": [
    {
     "name": "stdout",
     "output_type": "stream",
     "text": [
      "[ 1.00e+00]\n",
      "[ 2.00e+00]\n",
      "[ 2.87e-08]\n",
      "[ 2.80e-08]\n",
      "\n",
      "\n"
     ]
    }
   ],
   "source": [
    "print(sol[\"z\"])\n",
    "print(sol[\"y\"])"
   ]
  },
  {
   "cell_type": "code",
   "execution_count": 5,
   "metadata": {},
   "outputs": [
    {
     "name": "stdout",
     "output_type": "stream",
     "text": [
      "GLPK Simplex Optimizer 5.0\n",
      "4 rows, 2 columns, 6 non-zeros\n",
      "*     0: obj =   0.000000000e+00 inf =   0.000e+00 (2)\n",
      "*     2: obj =  -9.000000000e+00 inf =   0.000e+00 (0)\n",
      "OPTIMAL LP SOLUTION FOUND\n"
     ]
    },
    {
     "data": {
      "text/plain": [
       "{'status': 'optimal',\n",
       " 'x': <2x1 matrix, tc='d'>,\n",
       " 's': <4x1 matrix, tc='d'>,\n",
       " 'y': <0x1 matrix, tc='d'>,\n",
       " 'z': <4x1 matrix, tc='d'>,\n",
       " 'primal objective': -9.0,\n",
       " 'dual objective': -9.0,\n",
       " 'gap': 0.0,\n",
       " 'relative gap': 0.0,\n",
       " 'primal infeasibility': 0.0,\n",
       " 'dual infeasibility': 0.0,\n",
       " 'primal slack': 0.0,\n",
       " 'dual slack': -0.0,\n",
       " 'residual as primal infeasibility certificate': None,\n",
       " 'residual as dual infeasibility certificate': None}"
      ]
     },
     "execution_count": 5,
     "metadata": {},
     "output_type": "execute_result"
    }
   ],
   "source": [
    "sol = solvers.lp(c, G, h, solver='glpk')\n",
    "sol"
   ]
  },
  {
   "cell_type": "code",
   "execution_count": 6,
   "metadata": {},
   "outputs": [
    {
     "name": "stdout",
     "output_type": "stream",
     "text": [
      "[ 1.00e+00]\n",
      "[ 1.00e+00]\n",
      "\n",
      "[ 0.00e+00]\n",
      "[ 0.00e+00]\n",
      "[ 1.00e+00]\n",
      "[ 1.00e+00]\n",
      "\n"
     ]
    }
   ],
   "source": [
    "print(sol[\"x\"])\n",
    "print(sol[\"s\"])"
   ]
  },
  {
   "cell_type": "code",
   "execution_count": 7,
   "metadata": {},
   "outputs": [
    {
     "name": "stdout",
     "output_type": "stream",
     "text": [
      "[ 1.00e+00]\n",
      "[ 2.00e+00]\n",
      "[-0.00e+00]\n",
      "[-0.00e+00]\n",
      "\n",
      "\n"
     ]
    }
   ],
   "source": [
    "print(sol[\"z\"])\n",
    "print(sol[\"y\"])"
   ]
  },
  {
   "cell_type": "code",
   "execution_count": null,
   "metadata": {},
   "outputs": [],
   "source": []
  }
 ],
 "metadata": {
  "kernelspec": {
   "display_name": "devel",
   "language": "python",
   "name": "python3"
  },
  "language_info": {
   "codemirror_mode": {
    "name": "ipython",
    "version": 3
   },
   "file_extension": ".py",
   "mimetype": "text/x-python",
   "name": "python",
   "nbconvert_exporter": "python",
   "pygments_lexer": "ipython3",
   "version": "3.11.8"
  }
 },
 "nbformat": 4,
 "nbformat_minor": 2
}
