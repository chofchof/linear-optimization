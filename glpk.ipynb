{
 "cells": [
  {
   "cell_type": "markdown",
   "metadata": {},
   "source": [
    "# GNU MathProg (GMPL)\n",
    "\n",
    "https://www.gnu.org/software/glpk/\n",
    "\n",
    "https://en.wikipedia.org/wiki/GNU_Linear_Programming_Kit\n",
    "\n",
    "Since version 4.0, GLPK problems can be modeled using GNU MathProg (GMPL), a subset of the AMPL modeling language used only by GLPK.\n",
    "\n",
    "    conda install -c conda-forge glpk\n",
    "\n",
    "## GLPK - Stand-alone LP/MIP Solver\n",
    "\n",
    "The GLPK package includes the program `glpsol`, which is a stand-alone LP/MIP solver. This program can be invoked from the command line to read LP/MIP problem data in any format supported by GLPK, solve the problem, and write its solution to an output text file."
   ]
  },
  {
   "cell_type": "markdown",
   "metadata": {},
   "source": [
    "## Model Dovetail\n",
    "\n",
    "\\begin{align*}\n",
    "\\text{maximize} &\\quad 3x_1+2x_2 \\\\\n",
    "\\text{subject to} &\\quad x_1+x_2 \\leq 9 \\tag{1.1} \\\\\n",
    "&\\quad 3x_1+x_2 \\leq 18 \\tag{1.2} \\\\\n",
    "&\\quad x_1 \\leq 7 \\tag{1.3} \\\\\n",
    "&\\quad x_2 \\leq 6 \\tag{1.4} \\\\\n",
    "&\\quad x_1,x_2 \\geq 0.\n",
    "\\end{align*}"
   ]
  },
  {
   "cell_type": "code",
   "execution_count": 1,
   "metadata": {
    "vscode": {
     "languageId": "shellscript"
    }
   },
   "outputs": [
    {
     "name": "stdout",
     "output_type": "stream",
     "text": [
      "     1\t/* Decision variables */\n",
      "     2\tvar x1 >= 0; # number of boxes (x 100,000) of long matches\n",
      "     3\tvar x2 >= 0; # number of boxes (x 100,000) of short matches\n",
      "     4\t\n",
      "     5\t/* Objective function */\n",
      "     6\tmaximize z: 3*x1 + 2*x2;\n",
      "     7\t\n",
      "     8\t/* Constraints */\n",
      "     9\tsubject to c11: x1 + x2 <= 9; # machine capacity (1.1)\n",
      "    10\tsubject to c12: 3*x1 + x2 <= 18; # wood (1.2)\n",
      "    11\tsubject to c13: x1 <= 7; # boxes for long matches (1.3)\n",
      "    12\tsubject to c14: x2 <= 6; # boxes for short matches (1.4)\n",
      "    13\t\n",
      "    14\tend;\n"
     ]
    }
   ],
   "source": [
    "!cat -n dovetail.mod"
   ]
  },
  {
   "cell_type": "code",
   "execution_count": 28,
   "metadata": {
    "vscode": {
     "languageId": "shellscript"
    }
   },
   "outputs": [
    {
     "name": "stdout",
     "output_type": "stream",
     "text": [
      "GLPSOL--GLPK LP/MIP Solver 5.0\n",
      "Parameter(s) specified in the command line:\n",
      " --noscale --nopresol -m dovetail.mod -o dovetail.out --ranges dovetail.report\n",
      "Reading model section from dovetail.mod...\n",
      "14 lines were read\n",
      "Generating z...\n",
      "Generating c11...\n",
      "Generating c12...\n",
      "Generating c13...\n",
      "Generating c14...\n",
      "Model has been successfully generated\n",
      "Constructing initial basis...\n",
      "Size of triangular part is 5\n",
      "GLPK Simplex Optimizer 5.0\n",
      "5 rows, 2 columns, 8 non-zeros\n",
      "*     0: obj =  -0.000000000e+00 inf =   0.000e+00 (2)\n",
      "*     2: obj =   2.250000000e+01 inf =   0.000e+00 (0)\n",
      "OPTIMAL LP SOLUTION FOUND\n",
      "Time used:   0.0 secs\n",
      "Memory used: 0.1 Mb (81278 bytes)\n",
      "Writing basic solution to 'dovetail.out'...\n",
      "Write sensitivity analysis report to 'dovetail.report'...\n"
     ]
    }
   ],
   "source": [
    "!glpsol --noscale --nopresol -m dovetail.mod -o dovetail.out --ranges dovetail.report"
   ]
  },
  {
   "cell_type": "code",
   "execution_count": 29,
   "metadata": {
    "vscode": {
     "languageId": "shellscript"
    }
   },
   "outputs": [
    {
     "name": "stdout",
     "output_type": "stream",
     "text": [
      "     1\tProblem:    dovetail\n",
      "     2\tRows:       5\n",
      "     3\tColumns:    2\n",
      "     4\tNon-zeros:  8\n",
      "     5\tStatus:     OPTIMAL\n",
      "     6\tObjective:  z = 22.5 (MAXimum)\n",
      "     7\t\n",
      "     8\t   No.   Row name   St   Activity     Lower bound   Upper bound    Marginal\n",
      "     9\t------ ------------ -- ------------- ------------- ------------- -------------\n",
      "    10\t     1 z            B           22.5                             \n",
      "    11\t     2 c11          NU             9                           9           1.5 \n",
      "    12\t     3 c12          NU            18                          18           0.5 \n",
      "    13\t     4 c13          B            4.5                           7 \n",
      "    14\t     5 c14          B            4.5                           6 \n",
      "    15\t\n",
      "    16\t   No. Column name  St   Activity     Lower bound   Upper bound    Marginal\n",
      "    17\t------ ------------ -- ------------- ------------- ------------- -------------\n",
      "    18\t     1 x1           B            4.5             0               \n",
      "    19\t     2 x2           B            4.5             0               \n",
      "    20\t\n",
      "    21\tKarush-Kuhn-Tucker optimality conditions:\n",
      "    22\t\n",
      "    23\tKKT.PE: max.abs.err = 0.00e+00 on row 0\n",
      "    24\t        max.rel.err = 0.00e+00 on row 0\n",
      "    25\t        High quality\n",
      "    26\t\n",
      "    27\tKKT.PB: max.abs.err = 0.00e+00 on row 0\n",
      "    28\t        max.rel.err = 0.00e+00 on row 0\n",
      "    29\t        High quality\n",
      "    30\t\n",
      "    31\tKKT.DE: max.abs.err = 0.00e+00 on column 0\n",
      "    32\t        max.rel.err = 0.00e+00 on column 0\n",
      "    33\t        High quality\n",
      "    34\t\n",
      "    35\tKKT.DB: max.abs.err = 0.00e+00 on row 0\n",
      "    36\t        max.rel.err = 0.00e+00 on row 0\n",
      "    37\t        High quality\n",
      "    38\t\n",
      "    39\tEnd of output\n"
     ]
    }
   ],
   "source": [
    "!cat -n dovetail.out"
   ]
  },
  {
   "cell_type": "code",
   "execution_count": 30,
   "metadata": {
    "vscode": {
     "languageId": "shellscript"
    }
   },
   "outputs": [
    {
     "name": "stdout",
     "output_type": "stream",
     "text": [
      "     1\tGLPK 5.0  - SENSITIVITY ANALYSIS REPORT                                                                         Page   1\n",
      "     2\t\n",
      "     3\tProblem:    dovetail\n",
      "     4\tObjective:  z = 22.5 (MAXimum)\n",
      "     5\t\n",
      "     6\t   No. Row name     St      Activity         Slack   Lower bound       Activity      Obj coef  Obj value at Limiting\n",
      "     7\t                                          Marginal   Upper bound          range         range   break point variable\n",
      "     8\t------ ------------ -- ------------- ------------- -------------  ------------- ------------- ------------- ------------\n",
      "     9\t     1 z            BS      22.50000     -22.50000          -Inf       18.00000      -1.00000        .      c11\n",
      "    10\t                                            .               +Inf       22.50000          +Inf          +Inf\n",
      "    11\t\n",
      "    12\t     2 c11          NU       9.00000        .               -Inf        6.00000      -1.50000      18.00000 x2\n",
      "    13\t                                           1.50000       9.00000       10.00000          +Inf      24.00000 c14\n",
      "    14\t\n",
      "    15\t     3 c12          NU      18.00000        .               -Inf       15.00000       -.50000      21.00000 c14\n",
      "    16\t                                            .50000      18.00000       23.00000          +Inf      25.00000 c13\n",
      "    17\t\n",
      "    18\t     4 c13          BS       4.50000       2.50000          -Inf        3.00000      -1.00000      18.00000 c12\n",
      "    19\t                                            .            7.00000        6.00000       3.00000      36.00000 c11\n",
      "    20\t\n",
      "    21\t     5 c14          BS       4.50000       1.50000          -Inf         .           -1.00000      18.00000 c11\n",
      "    22\t                                            .            6.00000        9.00000       1.00000      27.00000 c12\n",
      "    23\t\n",
      "    24\tGLPK 5.0  - SENSITIVITY ANALYSIS REPORT                                                                         Page   2\n",
      "    25\t\n",
      "    26\tProblem:    dovetail\n",
      "    27\tObjective:  z = 22.5 (MAXimum)\n",
      "    28\t\n",
      "    29\t   No. Column name  St      Activity      Obj coef   Lower bound       Activity      Obj coef  Obj value at Limiting\n",
      "    30\t                                          Marginal   Upper bound          range         range   break point variable\n",
      "    31\t------ ------------ -- ------------- ------------- -------------  ------------- ------------- ------------- ------------\n",
      "    32\t     1 x1           BS       4.50000       3.00000        .             3.00000       2.00000      18.00000 c12\n",
      "    33\t                                            .               +Inf        6.00000       6.00000      36.00000 c11\n",
      "    34\t\n",
      "    35\t     2 x2           BS       4.50000       2.00000        .            -3.00000       1.00000      18.00000 c11\n",
      "    36\t                                            .               +Inf        6.00000       3.00000      27.00000 c12\n",
      "    37\t\n",
      "    38\tEnd of report\n"
     ]
    }
   ],
   "source": [
    "!cat -n dovetail.report"
   ]
  },
  {
   "cell_type": "markdown",
   "metadata": {},
   "source": [
    "## The diet problem\n",
    "\n",
    "\\begin{align*}\n",
    "\\text{minimize} &\\quad 40x_1+100x_2+150x_3 \\\\\n",
    "\\text{subject to} &\\quad x_1+2x_2+2x_3 = 3 \\\\\n",
    "&\\quad 30x_1+10x_2+20x_3 = 75 \\\\\n",
    "&\\quad x_1,x_2,x_3 \\geq 0.\n",
    "\\end{align*}"
   ]
  },
  {
   "cell_type": "code",
   "execution_count": 37,
   "metadata": {
    "vscode": {
     "languageId": "shellscript"
    }
   },
   "outputs": [
    {
     "name": "stdout",
     "output_type": "stream",
     "text": [
      "     1\tvar x1 >= 0;\n",
      "     2\tvar x2 >= 0;\n",
      "     3\tvar x3 >= 0;\n",
      "     4\t\n",
      "     5\tminimize z:\n",
      "     6\t    40 * x1 + 100 * x2 + 150 * x3;\n",
      "     7\t\n",
      "     8\tsubject to vitaminA:\n",
      "     9\t    x1 + 2 * x2 + 2 * x3 = 3;\n",
      "    10\t\n",
      "    11\tsubject to vitaminC:\n",
      "    12\t    30 * x1 + 10 * x2 + 20 * x3 = 75;\n",
      "    13\t\n",
      "    14\tend;\n"
     ]
    }
   ],
   "source": [
    "!cat -n diet.mod"
   ]
  },
  {
   "cell_type": "code",
   "execution_count": 31,
   "metadata": {
    "vscode": {
     "languageId": "shellscript"
    }
   },
   "outputs": [
    {
     "name": "stdout",
     "output_type": "stream",
     "text": [
      "GLPSOL--GLPK LP/MIP Solver 5.0\n",
      "Parameter(s) specified in the command line:\n",
      " --noscale --nopresol -m diet.mod -o diet.out --ranges diet.report\n",
      "Reading model section from diet.mod...\n",
      "14 lines were read\n",
      "Generating z...\n",
      "Generating vitaminA...\n",
      "Generating vitaminC...\n",
      "Model has been successfully generated\n",
      "Constructing initial basis...\n",
      "Size of triangular part is 2\n",
      "GLPK Simplex Optimizer 5.0\n",
      "3 rows, 3 columns, 9 non-zeros\n",
      "      0: obj =   5.625000000e+02 inf =   4.500e+00 (1)\n",
      "      1: obj =   1.462500000e+02 inf =   0.000e+00 (0)\n",
      "*     2: obj =   1.260000000e+02 inf =   0.000e+00 (0)\n",
      "OPTIMAL LP SOLUTION FOUND\n",
      "Time used:   0.0 secs\n",
      "Memory used: 0.1 Mb (80434 bytes)\n",
      "Writing basic solution to 'diet.out'...\n",
      "Write sensitivity analysis report to 'diet.report'...\n"
     ]
    }
   ],
   "source": [
    "!glpsol --noscale --nopresol -m diet.mod -o diet.out --ranges diet.report"
   ]
  },
  {
   "cell_type": "code",
   "execution_count": 32,
   "metadata": {
    "vscode": {
     "languageId": "shellscript"
    }
   },
   "outputs": [
    {
     "name": "stdout",
     "output_type": "stream",
     "text": [
      "     1\tProblem:    diet\n",
      "     2\tRows:       3\n",
      "     3\tColumns:    3\n",
      "     4\tNon-zeros:  9\n",
      "     5\tStatus:     OPTIMAL\n",
      "     6\tObjective:  z = 126 (MINimum)\n",
      "     7\t\n",
      "     8\t   No.   Row name   St   Activity     Lower bound   Upper bound    Marginal\n",
      "     9\t------ ------------ -- ------------- ------------- ------------- -------------\n",
      "    10\t     1 z            B            126                             \n",
      "    11\t     2 vitaminA     NS             3             3             =            52 \n",
      "    12\t     3 vitaminC     NS            75            75             =          -0.4 \n",
      "    13\t\n",
      "    14\t   No. Column name  St   Activity     Lower bound   Upper bound    Marginal\n",
      "    15\t------ ------------ -- ------------- ------------- ------------- -------------\n",
      "    16\t     1 x1           B            2.4             0               \n",
      "    17\t     2 x2           B            0.3             0               \n",
      "    18\t     3 x3           NL             0             0                          54 \n",
      "    19\t\n",
      "    20\tKarush-Kuhn-Tucker optimality conditions:\n",
      "    21\t\n",
      "    22\tKKT.PE: max.abs.err = 0.00e+00 on row 0\n",
      "    23\t        max.rel.err = 0.00e+00 on row 0\n",
      "    24\t        High quality\n",
      "    25\t\n",
      "    26\tKKT.PB: max.abs.err = 0.00e+00 on row 0\n",
      "    27\t        max.rel.err = 0.00e+00 on row 0\n",
      "    28\t        High quality\n",
      "    29\t\n",
      "    30\tKKT.DE: max.abs.err = 1.42e-14 on column 1\n",
      "    31\t        max.rel.err = 1.35e-16 on column 1\n",
      "    32\t        High quality\n",
      "    33\t\n",
      "    34\tKKT.DB: max.abs.err = 0.00e+00 on row 0\n",
      "    35\t        max.rel.err = 0.00e+00 on row 0\n",
      "    36\t        High quality\n",
      "    37\t\n",
      "    38\tEnd of output\n"
     ]
    }
   ],
   "source": [
    "!cat -n diet.out"
   ]
  },
  {
   "cell_type": "code",
   "execution_count": 33,
   "metadata": {
    "vscode": {
     "languageId": "shellscript"
    }
   },
   "outputs": [
    {
     "name": "stdout",
     "output_type": "stream",
     "text": [
      "     1\tGLPK 5.0  - SENSITIVITY ANALYSIS REPORT                                                                         Page   1\n",
      "     2\t\n",
      "     3\tProblem:    diet\n",
      "     4\tObjective:  z = 126 (MINimum)\n",
      "     5\t\n",
      "     6\t   No. Row name     St      Activity         Slack   Lower bound       Activity      Obj coef  Obj value at Limiting\n",
      "     7\t                                          Marginal   Upper bound          range         range   break point variable\n",
      "     8\t------ ------------ -- ------------- ------------- -------------  ------------- ------------- ------------- ------------\n",
      "     9\t     1 z            BS     126.00000    -126.00000          -Inf      146.25000      -1.00000        .      x3\n",
      "    10\t                                            .               +Inf      126.00000          +Inf          +Inf\n",
      "    11\t\n",
      "    12\t     2 vitaminA     NS       3.00000        .            3.00000        2.50000          -Inf     100.00000 x2\n",
      "    13\t                                          52.00000       3.00000       15.00000          +Inf     750.00000 x1\n",
      "    14\t\n",
      "    15\t     3 vitaminC     NS      75.00000        .           75.00000       15.00000          -Inf     150.00000 x1\n",
      "    16\t                                           -.40000      75.00000       90.00000          +Inf     120.00000 x2\n",
      "    17\t\n",
      "    18\tGLPK 5.0  - SENSITIVITY ANALYSIS REPORT                                                                         Page   2\n",
      "    19\t\n",
      "    20\tProblem:    diet\n",
      "    21\tObjective:  z = 126 (MINimum)\n",
      "    22\t\n",
      "    23\t   No. Column name  St      Activity      Obj coef   Lower bound       Activity      Obj coef  Obj value at Limiting\n",
      "    24\t                                          Marginal   Upper bound          range         range   break point variable\n",
      "    25\t------ ------------ -- ------------- ------------- -------------  ------------- ------------- ------------- ------------\n",
      "    26\t     1 x1           BS       2.40000      40.00000        .             2.40000          -Inf          -Inf\n",
      "    27\t                                            .               +Inf        2.25000     175.00000     450.00000 x3\n",
      "    28\t\n",
      "    29\t     2 x2           BS        .30000     100.00000        .              .30000          -Inf          -Inf\n",
      "    30\t                                            .               +Inf       -4.50000     167.50000     146.25000 x3\n",
      "    31\t\n",
      "    32\t     3 x3           NL        .          150.00000        .                -Inf      96.00000          -Inf\n",
      "    33\t                                          54.00000          +Inf         .37500          +Inf     146.25000 x2\n",
      "    34\t\n",
      "    35\tEnd of report\n"
     ]
    }
   ],
   "source": [
    "!cat -n diet.report"
   ]
  },
  {
   "cell_type": "markdown",
   "metadata": {},
   "source": [
    "## DEA (Data Envelopment Analysis) model\n",
    "\n",
    "\\begin{align*}\n",
    "\\text{maximize} &\\quad 72y_1+81y_2 \\\\\n",
    "\\text{subject to} &\\quad 77x_1+73x_2+78x_3 = 1 \\\\\n",
    "&\\quad 72y_1+81y_2-77x_1-73x_2-78x_3 \\leq 0 \\\\\n",
    "&\\quad 73y_1+82y_2-73x_1-70x_2-69x_3 \\leq 0 \\\\\n",
    "&\\quad 70y_1+59y_2-72x_1-67x_2-80x_3 \\leq 0 \\\\\n",
    "&\\quad 87y_1+83y_2-69x_1-74x_2-84x_3 \\leq 0 \\\\\n",
    "&\\quad 53y_1+64y_2-57x_1-65x_2-65x_3 \\leq 0 \\\\\n",
    "&\\quad 71y_1+85y_2-78x_1-72x_2-73x_3 \\leq 0 \\\\\n",
    "&\\quad 65y_1+68y_2-81x_1-71x_2-69x_3 \\leq 0 \\\\\n",
    "&\\quad 59y_1+62y_2-64x_1-66x_2-56x_3 \\leq 0 \\\\\n",
    "&\\quad 67y_1+93y_2-75x_1-84x_2-86x_3 \\leq 0 \\\\\n",
    "&\\quad 67y_1+70y_2-67x_1-65x_2-65x_3 \\leq 0 \\\\\n",
    "&\\quad x_1,x_2,x_3,y_1,y_2 \\geq 0.00001.\n",
    "\\end{align*}"
   ]
  },
  {
   "cell_type": "code",
   "execution_count": 38,
   "metadata": {
    "vscode": {
     "languageId": "shellscript"
    }
   },
   "outputs": [
    {
     "name": "stdout",
     "output_type": "stream",
     "text": [
      "     1\tset INPUT;\n",
      "     2\tset OUTPUT;\n",
      "     3\t\n",
      "     4\tparam N >= 1;\n",
      "     5\tparam u{1..N, INPUT}; # input values\n",
      "     6\tparam v{1..N, OUTPUT}; # output values\n",
      "     7\t\n",
      "     8\tparam K; # the DMU to assess\n",
      "     9\tparam eps > 0;\n",
      "    10\t\n",
      "    11\tvar x{i in INPUT} >= eps;\n",
      "    12\tvar y{j in OUTPUT} >= eps;\n",
      "    13\t\n",
      "    14\tmaximize objective:\n",
      "    15\t  sum {j in OUTPUT} y[j] * v[K, j];\n",
      "    16\t\n",
      "    17\tsubject to this_dmu:\n",
      "    18\t  sum {i in INPUT} x[i] * u[K, i] = 1;\n",
      "    19\t\n",
      "    20\tsubject to other_dmus{k in 1..N}:\n",
      "    21\t  sum {j in OUTPUT} y[j] * v[k, j] <= sum {i in INPUT} x[i] * u[k, i];\n",
      "    22\t\n",
      "    23\tdata;\n",
      "    24\t\n",
      "    25\tparam eps := 0.00001;\n",
      "    26\tparam K := 1;\n",
      "    27\tparam N := 10;\n",
      "    28\t\n",
      "    29\tset INPUT := realestate wages;\n",
      "    30\tset OUTPUT := economics business mathematics;\n",
      "    31\t\n",
      "    32\tparam u: realestate wages :=\n",
      "    33\t  1 72 81\n",
      "    34\t  2 73 82\n",
      "    35\t  3 70 59\n",
      "    36\t  4 87 83\n",
      "    37\t  5 53 64\n",
      "    38\t  6 71 85\n",
      "    39\t  7 65 68\n",
      "    40\t  8 59 62\n",
      "    41\t  9 134 186\n",
      "    42\t  10 134 140;\n",
      "    43\t\n",
      "    44\tparam v: economics business mathematics :=\n",
      "    45\t  1 77 73 78\n",
      "    46\t  2 73 70 69\n",
      "    47\t  3 72 67 80\n",
      "    48\t  4 69 74 84\n",
      "    49\t  5 57 65 65\n",
      "    50\t  6 78 72 73\n",
      "    51\t  7 81 71 69\n",
      "    52\t  8 64 66 56\n",
      "    53\t  9 150 168 172\n",
      "    54\t  10 134 130 130;\n",
      "    55\t\n",
      "    56\tend;\n"
     ]
    }
   ],
   "source": [
    "!cat -n dea.mod"
   ]
  },
  {
   "cell_type": "code",
   "execution_count": 34,
   "metadata": {
    "vscode": {
     "languageId": "shellscript"
    }
   },
   "outputs": [
    {
     "name": "stdout",
     "output_type": "stream",
     "text": [
      "GLPSOL--GLPK LP/MIP Solver 5.0\n",
      "Parameter(s) specified in the command line:\n",
      " --noscale --nopresol -m dea.mod -o dea.out --ranges dea.report\n",
      "Reading model section from dea.mod...\n",
      "Reading data section from dea.mod...\n",
      "56 lines were read\n",
      "Generating objective...\n",
      "Generating this_dmu...\n",
      "Generating other_dmus...\n",
      "Model has been successfully generated\n",
      "Constructing initial basis...\n",
      "Size of triangular part is 12\n",
      "GLPK Simplex Optimizer 5.0\n",
      "12 rows, 5 columns, 55 non-zeros\n",
      "*     0: obj =   2.280000000e-03 inf =   0.000e+00 (3)\n",
      "*     3: obj =   9.315365395e-01 inf =   0.000e+00 (0)\n",
      "OPTIMAL LP SOLUTION FOUND\n",
      "Time used:   0.0 secs\n",
      "Memory used: 0.1 Mb (109679 bytes)\n",
      "Writing basic solution to 'dea.out'...\n",
      "Write sensitivity analysis report to 'dea.report'...\n"
     ]
    }
   ],
   "source": [
    "!glpsol --noscale --nopresol -m dea.mod -o dea.out --ranges dea.report"
   ]
  },
  {
   "cell_type": "code",
   "execution_count": 35,
   "metadata": {
    "vscode": {
     "languageId": "shellscript"
    }
   },
   "outputs": [
    {
     "name": "stdout",
     "output_type": "stream",
     "text": [
      "     1\tProblem:    dea\n",
      "     2\tRows:       12\n",
      "     3\tColumns:    5\n",
      "     4\tNon-zeros:  55\n",
      "     5\tStatus:     OPTIMAL\n",
      "     6\tObjective:  objective = 0.9315365395 (MAXimum)\n",
      "     7\t\n",
      "     8\t   No.   Row name   St   Activity     Lower bound   Upper bound    Marginal\n",
      "     9\t------ ------------ -- ------------- ------------- ------------- -------------\n",
      "    10\t     1 objective    B       0.931537                             \n",
      "    11\t     2 this_dmu     NS             1             1             =      0.931558 \n",
      "    12\t     3 other_dmus[1]\n",
      "    13\t                    B     -0.0684635                          -0 \n",
      "    14\t     4 other_dmus[2]\n",
      "    15\t                    B      -0.164761                          -0 \n",
      "    16\t     5 other_dmus[3]\n",
      "    17\t                    NU             0                          -0      0.225381 \n",
      "    18\t     6 other_dmus[4]\n",
      "    19\t                    B      -0.236303                          -0 \n",
      "    20\t     7 other_dmus[5]\n",
      "    21\t                    B    -0.00756626                          -0 \n",
      "    22\t     8 other_dmus[6]\n",
      "    23\t                    B     -0.0977737                          -0 \n",
      "    24\t     9 other_dmus[7]\n",
      "    25\t                    NU             0                          -0      0.406883 \n",
      "    26\t    10 other_dmus[8]\n",
      "    27\t                    B     -0.0948939                          -0 \n",
      "    28\t    11 other_dmus[9]\n",
      "    29\t                    NU             0                          -0      0.185434 \n",
      "    30\t    12 other_dmus[10]\n",
      "    31\t                    B      -0.251444                          -0 \n",
      "    32\t\n",
      "    33\t   No. Column name  St   Activity     Lower bound   Upper bound    Marginal\n",
      "    34\t------ ------------ -- ------------- ------------- ------------- -------------\n",
      "    35\t     1 x[realestate]\n",
      "    36\t                    B      0.0109192         1e-05               \n",
      "    37\t     2 x[wages]     B     0.00263975         1e-05               \n",
      "    38\t     3 y[economics] B     0.00505512         1e-05               \n",
      "    39\t     4 y[business]  NL         1e-05         1e-05                    -2.14208 \n",
      "    40\t     5 y[mathematics]\n",
      "    41\t                    B     0.00694311         1e-05               \n",
      "    42\t\n",
      "    43\tKarush-Kuhn-Tucker optimality conditions:\n",
      "    44\t\n",
      "    45\tKKT.PE: max.abs.err = 2.22e-16 on row 4\n",
      "    46\t        max.rel.err = 7.99e-17 on row 9\n",
      "    47\t        High quality\n",
      "    48\t\n",
      "    49\tKKT.PB: max.abs.err = 0.00e+00 on row 0\n",
      "    50\t        max.rel.err = 0.00e+00 on row 0\n",
      "    51\t        High quality\n",
      "    52\t\n",
      "    53\tKKT.DE: max.abs.err = 0.00e+00 on column 0\n",
      "    54\t        max.rel.err = 0.00e+00 on column 0\n",
      "    55\t        High quality\n",
      "    56\t\n",
      "    57\tKKT.DB: max.abs.err = 0.00e+00 on row 0\n",
      "    58\t        max.rel.err = 0.00e+00 on row 0\n",
      "    59\t        High quality\n",
      "    60\t\n",
      "    61\tEnd of output\n"
     ]
    }
   ],
   "source": [
    "!cat -n dea.out"
   ]
  },
  {
   "cell_type": "code",
   "execution_count": 36,
   "metadata": {
    "vscode": {
     "languageId": "shellscript"
    }
   },
   "outputs": [
    {
     "name": "stdout",
     "output_type": "stream",
     "text": [
      "     1\tGLPK 5.0  - SENSITIVITY ANALYSIS REPORT                                                                         Page   1\n",
      "     2\t\n",
      "     3\tProblem:    dea\n",
      "     4\tObjective:  objective = 0.9315365395 (MAXimum)\n",
      "     5\t\n",
      "     6\t   No. Row name     St      Activity         Slack   Lower bound       Activity      Obj coef  Obj value at Limiting\n",
      "     7\t                                          Marginal   Upper bound          range         range   break point variable\n",
      "     8\t------ ------------ -- ------------- ------------- -------------  ------------- ------------- ------------- ------------\n",
      "     9\t     1 objective    BS        .93154       -.93154          -Inf         .92784      -1.00000        .      y[business]\n",
      "    10\t                                            .               +Inf         .93154          +Inf          +Inf\n",
      "    11\t\n",
      "    12\t     2 this_dmu     NS       1.00000        .            1.00000         .00576          -Inf        .00535 other_dmus[5]\n",
      "    13\t                                            .93156       1.00000           +Inf          +Inf          +Inf\n",
      "    14\t\n",
      "    15\t     3 other_dmus[1]\n",
      "    16\t                    BS       -.06846        .06846          -Inf        -.07216      -1.00000       1.00000 y[business]\n",
      "    17\t                                            .             .             -.06846          +Inf          -Inf\n",
      "    18\t\n",
      "    19\t     4 other_dmus[2]\n",
      "    20\t                    BS       -.16476        .16476          -Inf        -.22502       -.66888       1.04174 other_dmus[7]\n",
      "    21\t                                            .             .             -.16270       1.79000        .63661 y[business]\n",
      "    22\t\n",
      "    23\t     5 other_dmus[3]\n",
      "    24\t                    NU        .             .               -Inf        -.08962       -.22538        .91134 x[wages]\n",
      "    25\t                                            .22538        .              .02979          +Inf        .93825 other_dmus[5]\n",
      "    26\t\n",
      "    27\t     6 other_dmus[4]\n",
      "    28\t                    BS       -.23630        .23630          -Inf        -.33105       -.21320        .98192 other_dmus[3]\n",
      "    29\t                                            .             .             -.22789        .43943        .82770 y[business]\n",
      "    30\t\n",
      "    31\t     7 other_dmus[5]\n",
      "    32\t                    BS       -.00757        .00757          -Inf        -.18956       -.70068        .93684 other_dmus[9]\n",
      "    33\t                                            .             .              .03720        .48854        .92784 y[business]\n",
      "    34\t\n",
      "    35\t     8 other_dmus[6]\n",
      "    36\t                    BS       -.09777        .09777          -Inf        -.16704       -.58191        .98843 other_dmus[7]\n",
      "    37\t                                            .             .             -.08876       2.24081        .71244 other_dmus[3]\n",
      "    38\t\n",
      "    39\t     9 other_dmus[7]\n",
      "    40\t                    NU        .             .               -Inf        -.09906       -.40688        .89123 y[economics]\n",
      "    41\t                                            .40688        .              .13137          +Inf        .98499 other_dmus[8]\n",
      "    42\t\n",
      "    43\t    10 other_dmus[8]\n",
      "    44\t                    BS       -.09489        .09489          -Inf        -.16645       -.56328        .98499 other_dmus[7]\n",
      "    45\t                                            .             .             -.07885        .23046        .90967 y[business]\n",
      "    46\t\n",
      "    47\tGLPK 5.0  - SENSITIVITY ANALYSIS REPORT                                                                         Page   2\n",
      "    48\t\n",
      "    49\tProblem:    dea\n",
      "    50\tObjective:  objective = 0.9315365395 (MAXimum)\n",
      "    51\t\n",
      "    52\t   No. Row name     St      Activity         Slack   Lower bound       Activity      Obj coef  Obj value at Limiting\n",
      "    53\t                                          Marginal   Upper bound          range         range   break point variable\n",
      "    54\t------ ------------ -- ------------- ------------- -------------  ------------- ------------- ------------- ------------\n",
      "    55\t    11 other_dmus[9]\n",
      "    56\t                    NU        .             .               -Inf        -.68767       -.18543        .80402 y[mathematics]\n",
      "    57\t                                            .18543        .              .02859          +Inf        .93684 other_dmus[5]\n",
      "    58\t\n",
      "    59\t    12 other_dmus[10]\n",
      "    60\t                    BS       -.25144        .25144          -Inf        -.29959       -.41951       1.03702 other_dmus[3]\n",
      "    61\t                                            .             .             -.24170        .37946        .83612 y[business]\n",
      "    62\t\n",
      "    63\tGLPK 5.0  - SENSITIVITY ANALYSIS REPORT                                                                         Page   3\n",
      "    64\t\n",
      "    65\tProblem:    dea\n",
      "    66\tObjective:  objective = 0.9315365395 (MAXimum)\n",
      "    67\t\n",
      "    68\t   No. Column name  St      Activity      Obj coef   Lower bound       Activity      Obj coef  Obj value at Limiting\n",
      "    69\t                                          Marginal   Upper bound          range         range   break point variable\n",
      "    70\t------ ------------ -- ------------- ------------- -------------  ------------- ------------- ------------- ------------\n",
      "    71\t     1 x[realestate]\n",
      "    72\t                    BS        .01092        .             .00001         .01026      -5.62996        .87006 y[business]\n",
      "    73\t                                            .               +Inf         .01388       6.82753       1.00609 other_dmus[3]\n",
      "    74\t\n",
      "    75\t     2 x[wages]     BS        .00264        .             .00001        -.00421      -7.68097        .91126 other_dmus[3]\n",
      "    76\t                                            .               +Inf         .00322       6.33370        .94826 y[business]\n",
      "    77\t\n",
      "    78\t     3 y[economics] BS        .00506      77.00000        .00001         .00422      72.59210        .90925 y[business]\n",
      "    79\t                                            .               +Inf         .00749      85.30275        .97351 other_dmus[3]\n",
      "    80\t\n",
      "    81\t     4 y[business]  NL        .00001      73.00000        .00001        -.00777          -Inf        .94819 x[wages]\n",
      "    82\t                                          -2.14208          +Inf         .00174      75.14208        .92784 other_dmus[5]\n",
      "    83\t\n",
      "    84\t     5 y[mathematics]\n",
      "    85\t                    BS        .00694      78.00000        .00001         .00611      73.57080        .90078 y[business]\n",
      "    86\t                                            .               +Inf         .01141      87.03009        .99423 other_dmus[7]\n",
      "    87\t\n",
      "    88\tEnd of report\n"
     ]
    }
   ],
   "source": [
    "!cat -n dea.report"
   ]
  },
  {
   "cell_type": "code",
   "execution_count": null,
   "metadata": {
    "vscode": {
     "languageId": "shellscript"
    }
   },
   "outputs": [],
   "source": []
  }
 ],
 "metadata": {
  "kernelspec": {
   "display_name": "devel",
   "language": "python",
   "name": "python3"
  },
  "language_info": {
   "codemirror_mode": {
    "name": "ipython",
    "version": 3
   },
   "file_extension": ".py",
   "mimetype": "text/x-python",
   "name": "python",
   "nbconvert_exporter": "python",
   "pygments_lexer": "ipython3",
   "version": "3.11.8"
  }
 },
 "nbformat": 4,
 "nbformat_minor": 2
}
